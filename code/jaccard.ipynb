{
 "cells": [
  {
   "cell_type": "code",
   "execution_count": null,
   "metadata": {},
   "outputs": [
    {
     "name": "stdout",
     "output_type": "stream",
     "text": [
      "Jaccardův koeficient mezi množinami A a B: 0.50\n"
     ]
    }
   ],
   "source": [
    "# Jupyter Notebook Cell 1: Import knihoven\n",
    "# Importujeme potřebné knihovny\n",
    "\n",
    "# Funkce pro výpočet Jaccardova koeficientu\n",
    "def jaccard_coefficient(set_a, set_b):\n",
    "    \"\"\"\n",
    "    Vypočítá Jaccardův koeficient mezi dvěma množinami.\n",
    "\n",
    "    Parametry:\n",
    "    - set_a: první množina\n",
    "    - set_b: druhá množina\n",
    "\n",
    "    Návratová hodnota:\n",
    "    - Hodnota Jaccardova koeficientu (float)\n",
    "    \"\"\"\n",
    "    intersection = len(set_a.intersection(set_b))  # Počet společných prvků (průnik)\n",
    "    union = len(set_a.union(set_b))  # Počet všech unikátních prvků (sjednocení)\n",
    "    return intersection / union if union != 0 else 0  # Ošetření dělení nulou\n",
    "\n",
    "\n",
    "# Příklad použití funkce\n",
    "set_a = {\"Jan\", \"Novák\", \"Praha\"}\n",
    "set_b = {\"Jan\", \"Novák\", \"Brno\"}\n",
    "\n",
    "jaccard_score = jaccard_coefficient(set_a, set_b)\n",
    "print(f\"Jaccardův koeficient mezi množinami A a B: {jaccard_score:.2f}\")"
   ]
  },
  {
   "cell_type": "code",
   "execution_count": null,
   "metadata": {},
   "outputs": [
    {
     "name": "stdout",
     "output_type": "stream",
     "text": [
      "Příklad 1:\n",
      "  Množina A: {'Praha', 'Novák', 'Jan'}\n",
      "  Množina B: {'Brno', 'Novák', 'Jan'}\n",
      "  Jaccardův koeficient: 0.50\n",
      "\n",
      "Příklad 2:\n",
      "  Množina A: {'chléb', 'mléko', 'vejce'}\n",
      "  Množina B: {'chléb', 'mléko', 'máslo'}\n",
      "  Jaccardův koeficient: 0.50\n",
      "\n",
      "Příklad 3:\n",
      "  Množina A: {'motorka', 'auto'}\n",
      "  Množina B: {'motorka', 'auto'}\n",
      "  Jaccardův koeficient: 1.00\n",
      "\n",
      "Příklad 4:\n",
      "  Množina A: {'pes'}\n",
      "  Množina B: {'kočka'}\n",
      "  Jaccardův koeficient: 0.00\n",
      "\n"
     ]
    }
   ],
   "source": [
    "# Jupyter Notebook Cell 2: Testování na více příkladech\n",
    "\n",
    "# Definujeme několik párů množin\n",
    "examples = [\n",
    "    ({\"Jan\", \"Novák\", \"Praha\"}, {\"Jan\", \"Novák\", \"Brno\"}),  # Částečná podobnost\n",
    "    ({\"mléko\", \"chléb\", \"vejce\"}, {\"mléko\", \"chléb\", \"máslo\"}),  # Částečná podobnost\n",
    "    ({\"auto\", \"motorka\"}, {\"auto\", \"motorka\"}),  # Identické množiny\n",
    "    ({\"pes\"}, {\"kočka\"}),  # Žádná podobnost\n",
    "]\n",
    "\n",
    "# Pro každý pár spočítáme Jaccardův koeficient\n",
    "for i, (set_a, set_b) in enumerate(examples):\n",
    "    score = jaccard_coefficient(set_a, set_b)\n",
    "    print(f\"Příklad {i + 1}:\")\n",
    "    print(f\"  Množina A: {set_a}\")\n",
    "    print(f\"  Množina B: {set_b}\")\n",
    "    print(f\"  Jaccardův koeficient: {score:.2f}\")\n",
    "    print()"
   ]
  },
  {
   "cell_type": "code",
   "execution_count": null,
   "metadata": {},
   "outputs": [
    {
     "data": {
      "image/png": "[encoded data removed]",
      "text/plain": [
       "<Figure size 640x480 with 1 Axes>"
      ]
     },
     "metadata": {},
     "output_type": "display_data"
    }
   ],
   "source": [
    "# Jupyter Notebook Cell 3: Vizualizace pomocí matplotlib\n",
    "import matplotlib.pyplot as plt\n",
    "\n",
    "# Data pro vizualizaci\n",
    "labels = [\"Příklad 1\", \"Příklad 2\", \"Příklad 3\", \"Příklad 4\"]\n",
    "scores = [jaccard_coefficient(*example) for example in examples]\n",
    "\n",
    "# Vytvoření sloupcového grafu\n",
    "plt.bar(labels, scores, color=\"skyblue\")\n",
    "plt.title(\"Jaccardův koeficient pro různé příklady\")\n",
    "plt.ylabel(\"Jaccardův koeficient\")\n",
    "plt.ylim(0, 1)\n",
    "plt.show()"
   ]
  }
 ],
 "metadata": {
  "kernelspec": {
   "display_name": ".venv",
   "language": "python",
   "name": "python3"
  },
  "language_info": {
   "codemirror_mode": {
    "name": "ipython",
    "version": 3
   },
   "file_extension": ".py",
   "mimetype": "text/x-python",
   "name": "python",
   "nbconvert_exporter": "python",
   "pygments_lexer": "ipython3",
   "version": "3.12.3"
  }
 },
 "nbformat": 4,
 "nbformat_minor": 2
}
