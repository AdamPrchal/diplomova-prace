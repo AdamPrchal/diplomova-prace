{
 "cells": [
  {
   "cell_type": "code",
   "execution_count": 3,
   "metadata": {},
   "outputs": [
    {
     "name": "stdout",
     "output_type": "stream",
     "text": [
      "Levenshteinova vzdálenost mezi krátkými řetězci 'kitten' a 'sitting': 3\n",
      "Jaro-Winklerova podobnost mezi krátkými řetězci 'kitten' a 'sitting': 0.746031746031746\n",
      "\n",
      "---\n",
      "\n",
      "Levenshteinova vzdálenost mezi dlouhými řetězci:\n",
      "'Lorem ipsum dolor sit amet, consectetur adipiscing elit.'\n",
      "'Proin ac orci. Lorem ipsum dolor sit amet, consectetur adipiscing elit.': 15\n",
      "Jaro-Winklerova podobnost mezi dlouhými řetězci:\n",
      "'Lorem ipsum dolor sit amet, consectetur adipiscing elit.'\n",
      "'Proin ac orci. Lorem ipsum dolor sit amet, consectetur adipiscing elit.': 0.7867203219315894\n"
     ]
    }
   ],
   "source": [
    "# Instalace knihovny textdistance (pokud není nainstalována)\n",
    "# !pip install textdistance\n",
    "\n",
    "import textdistance\n",
    "\n",
    "# Definice krátkých řetězců k porovnání\n",
    "short_string1 = \"kitten\"\n",
    "short_string2 = \"sitting\"\n",
    "\n",
    "# Definice dlouhých řetězců k porovnání\n",
    "long_string1 = \"Lorem ipsum dolor sit amet, consectetur adipiscing elit.\"\n",
    "long_string2 = \"Proin ac orci. Lorem ipsum dolor sit amet, consectetur adipiscing elit.\"\n",
    "\n",
    "# Levenshteinova vzdálenost pro krátké řetězce\n",
    "levenshtein_distance_short = textdistance.levenshtein.distance(short_string1, short_string2)\n",
    "print(f\"Levenshteinova vzdálenost mezi krátkými řetězci '{short_string1}' a '{short_string2}': {levenshtein_distance_short}\")\n",
    "\n",
    "# Jaro-Winklerova podobnost pro krátké řetězce\n",
    "jaro_winkler_similarity_short = textdistance.jaro_winkler.similarity(short_string1, short_string2)\n",
    "print(f\"Jaro-Winklerova podobnost mezi krátkými řetězci '{short_string1}' a '{short_string2}': {jaro_winkler_similarity_short}\")\n",
    "\n",
    "print(\"\\n---\\n\")\n",
    "\n",
    "# Levenshteinova vzdálenost pro dlouhé řetězce\n",
    "levenshtein_distance_long = textdistance.levenshtein.distance(long_string1, long_string2)\n",
    "print(f\"Levenshteinova vzdálenost mezi dlouhými řetězci:\\n'{long_string1}'\\n'{long_string2}': {levenshtein_distance_long}\")\n",
    "\n",
    "# Jaro-Winklerova podobnost pro dlouhé řetězce\n",
    "jaro_winkler_similarity_long = textdistance.jaro_winkler.similarity(long_string1, long_string2)\n",
    "print(f\"Jaro-Winklerova podobnost mezi dlouhými řetězci:\\n'{long_string1}'\\n'{long_string2}': {jaro_winkler_similarity_long}\")\n"
   ]
  }
 ],
 "metadata": {
  "kernelspec": {
   "display_name": ".venv",
   "language": "python",
   "name": "python3"
  },
  "language_info": {
   "codemirror_mode": {
    "name": "ipython",
    "version": 3
   },
   "file_extension": ".py",
   "mimetype": "text/x-python",
   "name": "python",
   "nbconvert_exporter": "python",
   "pygments_lexer": "ipython3",
   "version": "3.12.3"
  }
 },
 "nbformat": 4,
 "nbformat_minor": 2
}
